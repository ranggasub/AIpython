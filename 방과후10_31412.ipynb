{
  "nbformat": 4,
  "nbformat_minor": 0,
  "metadata": {
    "colab": {
      "name": "방과후10_31412.ipynb",
      "provenance": [],
      "authorship_tag": "ABX9TyPRNArow4ptTfG4CwjDE8Ru",
      "include_colab_link": true
    },
    "kernelspec": {
      "name": "python3",
      "display_name": "Python 3"
    }
  },
  "cells": [
    {
      "cell_type": "markdown",
      "metadata": {
        "id": "view-in-github",
        "colab_type": "text"
      },
      "source": [
        "<a href=\"https://colab.research.google.com/github/ranggasub/AIpython/blob/master/%EB%B0%A9%EA%B3%BC%ED%9B%8410_31412.ipynb\" target=\"_parent\"><img src=\"https://colab.research.google.com/assets/colab-badge.svg\" alt=\"Open In Colab\"/></a>"
      ]
    },
    {
      "cell_type": "code",
      "metadata": {
        "id": "HaAm_iOF_wCd",
        "colab_type": "code",
        "colab": {
          "base_uri": "https://localhost:8080/",
          "height": 34
        },
        "outputId": "552afe0c-3264-4a0c-dc7c-fa41cba5fc09"
      },
      "source": [
        "print(\"hello gitub\")"
      ],
      "execution_count": 1,
      "outputs": [
        {
          "output_type": "stream",
          "text": [
            "hello gitub\n"
          ],
          "name": "stdout"
        }
      ]
    }
  ]
}